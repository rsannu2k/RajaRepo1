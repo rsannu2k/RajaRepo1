{
 "cells": [
  {
   "cell_type": "code",
   "execution_count": 0,
   "metadata": {
    "application/vnd.databricks.v1+cell": {
     "cellMetadata": {
      "byteLimit": 2048000,
      "rowLimit": 10000
     },
     "inputWidgets": {},
     "nuid": "9274822a-e398-4964-9adc-d518cbe4da20",
     "showTitle": true,
     "title": "Input Parameters"
    }
   },
   "outputs": [
    {
     "output_type": "display_data",
     "data": {
      "text/html": [
       "<style scoped>\n",
       "  .ansiout {\n",
       "    display: block;\n",
       "    unicode-bidi: embed;\n",
       "    white-space: pre-wrap;\n",
       "    word-wrap: break-word;\n",
       "    word-break: break-all;\n",
       "    font-family: \"Menlo\", \"Monaco\", \"Consolas\", \"Ubuntu Mono\", \"Source Code Pro\", monospace;\n",
       "    font-size: 13px;\n",
       "    color: #555;\n",
       "    margin-left: 4px;\n",
       "    line-height: 19px;\n",
       "  }\n",
       "</style>\n",
       "<div class=\"ansiout\">source_schema - dw_xle_sz_delta_fdp\n",
       "backup_schema - dw_xle_sz_archive\n",
       "source_table - t_f_xle_ceded_claim_transaction_detail_as_is\n",
       "backup_table - t_f_xle_ceded_claim_transaction_detail_as_is_20240221\n",
       "duplicate_column - cctd_as_is_fact_key\n",
       "filter_condition - src_sys_id in (15,23,26,80) and dw_row_active_ind = &#39;N&#39;\n",
       "</div>"
      ]
     },
     "metadata": {
      "application/vnd.databricks.v1+output": {
       "addedWidgets": {},
       "arguments": {},
       "data": "<div class=\"ansiout\">source_schema - dw_xle_sz_delta_fdp\nbackup_schema - dw_xle_sz_archive\nsource_table - t_f_xle_ceded_claim_transaction_detail_as_is\nbackup_table - t_f_xle_ceded_claim_transaction_detail_as_is_20240221\nduplicate_column - cctd_as_is_fact_key\nfilter_condition - src_sys_id in (15,23,26,80) and dw_row_active_ind = &#39;N&#39;\n</div>",
       "datasetInfos": [],
       "metadata": {},
       "removedWidgets": [],
       "type": "html"
      }
     },
     "output_type": "display_data"
    }
   ],
   "source": [
    "from pyspark.sql.functions import *\n",
    "\n",
    "dbutils.widgets.text(\"source_schema\" ,\"\" ,\"source_schema\")\n",
    "source_schema = dbutils.widgets.get(\"source_schema\")\n",
    "print(f\"source_schema - {source_schema}\")\n",
    "\n",
    "dbutils.widgets.text(\"backup_schema\" ,\"\" ,\"backup_schema\")\n",
    "backup_schema = dbutils.widgets.get(\"backup_schema\")\n",
    "print(f\"backup_schema - {backup_schema}\")\n",
    "\n",
    "dbutils.widgets.text(\"source_table\" ,\"\" ,\"source_table\")\n",
    "source_table = dbutils.widgets.get(\"source_table\")\n",
    "print(f\"source_table - {source_table}\")\n",
    "\n",
    "current_date = spark.sql(\"select current_date() as date\")\n",
    "date = current_date.withColumn(\"date\", date_format(col(\"date\"),\"yyyyMMdd\")).collect()[0][0]\n",
    "backup_table = f\"{source_table}_{date}\"\n",
    "print(f\"backup_table - {backup_table}\")\n",
    "\n",
    "dbutils.widgets.text(\"duplicate_column\" ,\"\" ,\"duplicate_column\")\n",
    "duplicate_column = dbutils.widgets.get(\"duplicate_column\")\n",
    "print(f\"duplicate_column - {duplicate_column}\")\n",
    "\n",
    "# If there is no filter condition (full backup), provide 1=1 or TRUE in filter_condition\n",
    "dbutils.widgets.text(\"filter_condition\" ,\"\" ,\"filter_condition\")\n",
    "filter_condition = dbutils.widgets.get(\"filter_condition\")\n",
    "print(f\"filter_condition - {filter_condition}\")"
   ]
  },
  {
   "cell_type": "code",
   "execution_count": 0,
   "metadata": {
    "application/vnd.databricks.v1+cell": {
     "cellMetadata": {
      "byteLimit": 2048000,
      "rowLimit": 10000
     },
     "inputWidgets": {},
     "nuid": "2ffb64d1-6ba2-4eba-b75a-81bbe221b75c",
     "showTitle": true,
     "title": "Backup Table Creation"
    }
   },
   "outputs": [
    {
     "output_type": "display_data",
     "data": {
      "text/html": [
       "<style scoped>\n",
       "  .ansiout {\n",
       "    display: block;\n",
       "    unicode-bidi: embed;\n",
       "    white-space: pre-wrap;\n",
       "    word-wrap: break-word;\n",
       "    word-break: break-all;\n",
       "    font-family: \"Menlo\", \"Monaco\", \"Consolas\", \"Ubuntu Mono\", \"Source Code Pro\", monospace;\n",
       "    font-size: 13px;\n",
       "    color: #555;\n",
       "    margin-left: 4px;\n",
       "    line-height: 19px;\n",
       "  }\n",
       "</style>\n",
       "<div class=\"ansiout\">CREATE TABLE IF NOT EXISTS dw_xle_sz_archive.t_f_xle_ceded_claim_transaction_detail_as_is_20231031\n",
       "USING DELTA\n",
       "PARTITIONED BY (src_sys_id, dw_row_active_ind)\n",
       "LOCATION &#39;abfs://standardizedzone@xlaeus2psedppdlgen2.dfs.core.windows.net/dw_xle_sz_archive/t_f_xle_ceded_claim_transaction_detail_as_is_20231031&#39;\n",
       "AS SELECT * FROM dw_xle_sz_delta_fdp.t_f_xle_ceded_claim_transaction_detail_as_is WHERE src_sys_id in (15,23,26,80) and dw_row_active_ind = &#39;N&#39;\n",
       "</div>"
      ]
     },
     "metadata": {
      "application/vnd.databricks.v1+output": {
       "addedWidgets": {},
       "arguments": {},
       "data": "<div class=\"ansiout\">CREATE TABLE IF NOT EXISTS dw_xle_sz_archive.t_f_xle_ceded_claim_transaction_detail_as_is_20231031\nUSING DELTA\nPARTITIONED BY (src_sys_id, dw_row_active_ind)\nLOCATION &#39;abfs://standardizedzone@xlaeus2psedppdlgen2.dfs.core.windows.net/dw_xle_sz_archive/t_f_xle_ceded_claim_transaction_detail_as_is_20231031&#39;\nAS SELECT * FROM dw_xle_sz_delta_fdp.t_f_xle_ceded_claim_transaction_detail_as_is WHERE src_sys_id in (15,23,26,80) and dw_row_active_ind = &#39;N&#39;\n</div>",
       "datasetInfos": [],
       "metadata": {},
       "removedWidgets": [],
       "type": "html"
      }
     },
     "output_type": "display_data"
    },
    {
     "output_type": "display_data",
     "data": {
      "text/html": [
       "<style scoped>\n",
       "  .table-result-container {\n",
       "    max-height: 300px;\n",
       "    overflow: auto;\n",
       "  }\n",
       "  table, th, td {\n",
       "    border: 1px solid black;\n",
       "    border-collapse: collapse;\n",
       "  }\n",
       "  th, td {\n",
       "    padding: 5px;\n",
       "  }\n",
       "  th {\n",
       "    text-align: left;\n",
       "  }\n",
       "</style><div class='table-result-container'><table class='table-result'><thead style='background-color: white'><tr><th>num_affected_rows</th><th>num_inserted_rows</th></tr></thead><tbody></tbody></table></div>"
      ]
     },
     "metadata": {
      "application/vnd.databricks.v1+output": {
       "addedWidgets": {},
       "aggData": [],
       "aggError": "",
       "aggOverflow": false,
       "aggSchema": [],
       "aggSeriesLimitReached": false,
       "aggType": "",
       "arguments": {},
       "columnCustomDisplayInfos": {},
       "data": [],
       "datasetInfos": [],
       "dbfsResultPath": null,
       "isJsonSchema": true,
       "metadata": {},
       "overflow": false,
       "plotOptions": {
        "customPlotOptions": {},
        "displayType": "table",
        "pivotAggregation": null,
        "pivotColumns": null,
        "xColumns": null,
        "yColumns": null
       },
       "removedWidgets": [],
       "schema": [
        {
         "metadata": "{}",
         "name": "num_affected_rows",
         "type": "\"long\""
        },
        {
         "metadata": "{}",
         "name": "num_inserted_rows",
         "type": "\"long\""
        }
       ],
       "type": "table"
      }
     },
     "output_type": "display_data"
    },
    {
     "output_type": "display_data",
     "data": {
      "text/html": [
       "<style scoped>\n",
       "  .ansiout {\n",
       "    display: block;\n",
       "    unicode-bidi: embed;\n",
       "    white-space: pre-wrap;\n",
       "    word-wrap: break-word;\n",
       "    word-break: break-all;\n",
       "    font-family: \"Menlo\", \"Monaco\", \"Consolas\", \"Ubuntu Mono\", \"Source Code Pro\", monospace;\n",
       "    font-size: 13px;\n",
       "    color: #555;\n",
       "    margin-left: 4px;\n",
       "    line-height: 19px;\n",
       "  }\n",
       "</style>\n",
       "<div class=\"ansiout\">\n",
       "Created dw_xle_sz_archive.t_f_xle_ceded_claim_transaction_detail_as_is_20231031\n",
       "</div>"
      ]
     },
     "metadata": {
      "application/vnd.databricks.v1+output": {
       "addedWidgets": {},
       "arguments": {},
       "data": "<div class=\"ansiout\">\nCreated dw_xle_sz_archive.t_f_xle_ceded_claim_transaction_detail_as_is_20231031\n</div>",
       "datasetInfos": [],
       "metadata": {},
       "removedWidgets": [],
       "type": "html"
      }
     },
     "output_type": "display_data"
    }
   ],
   "source": [
    "partition_cols = spark.sql(f\"DESC DETAIL {source_schema}.{source_table}\").select('partitionColumns').collect()[0][0]\n",
    "table_exists = spark.catalog._jcatalog.tableExists(backup_schema,backup_table)\n",
    "if(table_exists):\n",
    "  location = spark.sql(f\"DESC DETAIL {backup_schema}.{backup_table}\").select('location').collect()[0][0]\n",
    "  backup_table_drop = f\"DROP TABLE IF EXISTS {backup_schema}.{backup_table}\"\n",
    "  print(backup_table_drop)\n",
    "  display(spark.sql(backup_table_drop))\n",
    "  print(f\"\\nDropped {backup_schema}.{backup_table} table\")\n",
    "  dbutils.fs.rm(f'{location}', True)\n",
    "  print(f\"\\nDropped {backup_schema}.{backup_table} path '{location}'\")\n",
    "\n",
    "bkp_db_lcoation = spark.sql(f\"DESC DATABASE {backup_schema}\").filter(\"database_description_item='Location'\").select('database_description_value').collect()[0][0]\n",
    "backup_table_create = f\"\"\"CREATE TABLE IF NOT EXISTS {backup_schema}.{backup_table}\n",
    "USING DELTA\n",
    "PARTITIONED BY ({', '.join(partition_cols)})\n",
    "LOCATION '{bkp_db_lcoation}/{backup_table}'\n",
    "AS SELECT * FROM {source_schema}.{source_table} WHERE {filter_condition}\"\"\"\n",
    "print(backup_table_create)\n",
    "display(spark.sql(backup_table_create))\n",
    "print(f\"\\nCreated {backup_schema}.{backup_table}\")"
   ]
  },
  {
   "cell_type": "code",
   "execution_count": 0,
   "metadata": {
    "application/vnd.databricks.v1+cell": {
     "cellMetadata": {
      "byteLimit": 2048000,
      "rowLimit": 10000
     },
     "inputWidgets": {},
     "nuid": "18580da5-544d-4635-bf4f-c0fa7ec37643",
     "showTitle": true,
     "title": "Count Check Between Source and Backup Table"
    }
   },
   "outputs": [
    {
     "output_type": "display_data",
     "data": {
      "text/html": [
       "<style scoped>\n",
       "  .ansiout {\n",
       "    display: block;\n",
       "    unicode-bidi: embed;\n",
       "    white-space: pre-wrap;\n",
       "    word-wrap: break-word;\n",
       "    word-break: break-all;\n",
       "    font-family: \"Menlo\", \"Monaco\", \"Consolas\", \"Ubuntu Mono\", \"Source Code Pro\", monospace;\n",
       "    font-size: 13px;\n",
       "    color: #555;\n",
       "    margin-left: 4px;\n",
       "    line-height: 19px;\n",
       "  }\n",
       "</style>\n",
       "<div class=\"ansiout\">SELECT &#39;dw_xle_sz_delta_fdp.t_f_xle_ceded_claim_transaction_detail_as_is&#39; AS Table, Count FROM (\n",
       "                                SELECT &#39;dw_xle_sz_delta_fdp.t_f_xle_ceded_claim_transaction_detail_as_is&#39;, COUNT(*) AS Count FROM dw_xle_sz_delta_fdp.t_f_xle_ceded_claim_transaction_detail_as_is \n",
       "                                WHERE src_sys_id in (15,23,26,80) and dw_row_active_ind = &#39;N&#39;\n",
       "                                UNION ALL\n",
       "                                SELECT &#39;dw_xle_sz_archive.t_f_xle_ceded_claim_transaction_detail_as_is_20231031&#39;, COUNT(*) AS Count FROM dw_xle_sz_delta_fdp.t_f_xle_ceded_claim_transaction_detail_as_is \n",
       "                                WHERE src_sys_id in (15,23,26,80) and dw_row_active_ind = &#39;N&#39; )\n",
       "</div>"
      ]
     },
     "metadata": {
      "application/vnd.databricks.v1+output": {
       "addedWidgets": {},
       "arguments": {},
       "data": "<div class=\"ansiout\">SELECT &#39;dw_xle_sz_delta_fdp.t_f_xle_ceded_claim_transaction_detail_as_is&#39; AS Table, Count FROM (\n                                SELECT &#39;dw_xle_sz_delta_fdp.t_f_xle_ceded_claim_transaction_detail_as_is&#39;, COUNT(*) AS Count FROM dw_xle_sz_delta_fdp.t_f_xle_ceded_claim_transaction_detail_as_is \n                                WHERE src_sys_id in (15,23,26,80) and dw_row_active_ind = &#39;N&#39;\n                                UNION ALL\n                                SELECT &#39;dw_xle_sz_archive.t_f_xle_ceded_claim_transaction_detail_as_is_20231031&#39;, COUNT(*) AS Count FROM dw_xle_sz_delta_fdp.t_f_xle_ceded_claim_transaction_detail_as_is \n                                WHERE src_sys_id in (15,23,26,80) and dw_row_active_ind = &#39;N&#39; )\n</div>",
       "datasetInfos": [],
       "metadata": {},
       "removedWidgets": [],
       "type": "html"
      }
     },
     "output_type": "display_data"
    },
    {
     "output_type": "display_data",
     "data": {
      "text/html": [
       "<style scoped>\n",
       "  .table-result-container {\n",
       "    max-height: 300px;\n",
       "    overflow: auto;\n",
       "  }\n",
       "  table, th, td {\n",
       "    border: 1px solid black;\n",
       "    border-collapse: collapse;\n",
       "  }\n",
       "  th, td {\n",
       "    padding: 5px;\n",
       "  }\n",
       "  th {\n",
       "    text-align: left;\n",
       "  }\n",
       "</style><div class='table-result-container'><table class='table-result'><thead style='background-color: white'><tr><th>Table</th><th>Count</th></tr></thead><tbody><tr><td>dw_xle_sz_delta_fdp.t_f_xle_ceded_claim_transaction_detail_as_is</td><td>8625889512</td></tr><tr><td>dw_xle_sz_delta_fdp.t_f_xle_ceded_claim_transaction_detail_as_is</td><td>8625889512</td></tr></tbody></table></div>"
      ]
     },
     "metadata": {
      "application/vnd.databricks.v1+output": {
       "addedWidgets": {},
       "aggData": [],
       "aggError": "",
       "aggOverflow": false,
       "aggSchema": [],
       "aggSeriesLimitReached": false,
       "aggType": "",
       "arguments": {},
       "columnCustomDisplayInfos": {},
       "data": [
        [
         "dw_xle_sz_delta_fdp.t_f_xle_ceded_claim_transaction_detail_as_is",
         8625889512
        ],
        [
         "dw_xle_sz_delta_fdp.t_f_xle_ceded_claim_transaction_detail_as_is",
         8625889512
        ]
       ],
       "datasetInfos": [],
       "dbfsResultPath": null,
       "isJsonSchema": true,
       "metadata": {},
       "overflow": false,
       "plotOptions": {
        "customPlotOptions": {},
        "displayType": "table",
        "pivotAggregation": null,
        "pivotColumns": null,
        "xColumns": null,
        "yColumns": null
       },
       "removedWidgets": [],
       "schema": [
        {
         "metadata": "{}",
         "name": "Table",
         "type": "\"string\""
        },
        {
         "metadata": "{}",
         "name": "Count",
         "type": "\"long\""
        }
       ],
       "type": "table"
      }
     },
     "output_type": "display_data"
    }
   ],
   "source": [
    "source_backup_count_check = f\"\"\"SELECT '{source_schema}.{source_table}' AS Table, COUNT(*) AS Count \n",
    "                                FROM {source_schema}.{source_table} WHERE {filter_condition}\n",
    "                                UNION ALL\n",
    "                                SELECT '{backup_schema}.{backup_table}', COUNT(*) AS Count FROM {backup_schema}.{backup_table} \n",
    "                                WHERE {filter_condition} )\"\"\"\n",
    "print(source_backup_count_check)\n",
    "display(spark.sql(source_backup_count_check))"
   ]
  },
  {
   "cell_type": "code",
   "execution_count": 0,
   "metadata": {
    "application/vnd.databricks.v1+cell": {
     "cellMetadata": {
      "byteLimit": 2048000,
      "rowLimit": 10000
     },
     "inputWidgets": {},
     "nuid": "20cc9289-5f7a-4c18-b0d2-e1d0f10818f0",
     "showTitle": true,
     "title": "Duplicate Count Check in Source Table Before Insert"
    }
   },
   "outputs": [
    {
     "output_type": "display_data",
     "data": {
      "text/html": [
       "<style scoped>\n",
       "  .ansiout {\n",
       "    display: block;\n",
       "    unicode-bidi: embed;\n",
       "    white-space: pre-wrap;\n",
       "    word-wrap: break-word;\n",
       "    word-break: break-all;\n",
       "    font-family: \"Menlo\", \"Monaco\", \"Consolas\", \"Ubuntu Mono\", \"Source Code Pro\", monospace;\n",
       "    font-size: 13px;\n",
       "    color: #555;\n",
       "    margin-left: 4px;\n",
       "    line-height: 19px;\n",
       "  }\n",
       "</style>\n",
       "<div class=\"ansiout\">SELECT COUNT(*) AS duplicate_count FROM ( SELECT *, ROW_NUMBER() OVER (PARTITION BY cctd_as_is_fact_key ORDER BY dw_batch_id DESC, dw_last_update_dt DESC) rnk FROM dw_xle_sz_delta_fdp.t_f_xle_ceded_claim_transaction_detail_as_is WHERE src_sys_id in (15,23,26,80) and dw_row_active_ind = &#39;N&#39; )a WHERE rnk&gt;1\n",
       "</div>"
      ]
     },
     "metadata": {
      "application/vnd.databricks.v1+output": {
       "addedWidgets": {},
       "arguments": {},
       "data": "<div class=\"ansiout\">SELECT COUNT(*) AS duplicate_count FROM ( SELECT *, ROW_NUMBER() OVER (PARTITION BY cctd_as_is_fact_key ORDER BY dw_batch_id DESC, dw_last_update_dt DESC) rnk FROM dw_xle_sz_delta_fdp.t_f_xle_ceded_claim_transaction_detail_as_is WHERE src_sys_id in (15,23,26,80) and dw_row_active_ind = &#39;N&#39; )a WHERE rnk&gt;1\n</div>",
       "datasetInfos": [],
       "metadata": {},
       "removedWidgets": [],
       "type": "html"
      }
     },
     "output_type": "display_data"
    },
    {
     "output_type": "display_data",
     "data": {
      "text/html": [
       "<style scoped>\n",
       "  .table-result-container {\n",
       "    max-height: 300px;\n",
       "    overflow: auto;\n",
       "  }\n",
       "  table, th, td {\n",
       "    border: 1px solid black;\n",
       "    border-collapse: collapse;\n",
       "  }\n",
       "  th, td {\n",
       "    padding: 5px;\n",
       "  }\n",
       "  th {\n",
       "    text-align: left;\n",
       "  }\n",
       "</style><div class='table-result-container'><table class='table-result'><thead style='background-color: white'><tr><th>duplicate_count</th></tr></thead><tbody><tr><td>2916715242</td></tr></tbody></table></div>"
      ]
     },
     "metadata": {
      "application/vnd.databricks.v1+output": {
       "addedWidgets": {},
       "aggData": [],
       "aggError": "",
       "aggOverflow": false,
       "aggSchema": [],
       "aggSeriesLimitReached": false,
       "aggType": "",
       "arguments": {},
       "columnCustomDisplayInfos": {},
       "data": [
        [
         2916715242
        ]
       ],
       "datasetInfos": [],
       "dbfsResultPath": null,
       "isJsonSchema": true,
       "metadata": {},
       "overflow": false,
       "plotOptions": {
        "customPlotOptions": {},
        "displayType": "table",
        "pivotAggregation": null,
        "pivotColumns": null,
        "xColumns": null,
        "yColumns": null
       },
       "removedWidgets": [],
       "schema": [
        {
         "metadata": "{}",
         "name": "duplicate_count",
         "type": "\"long\""
        }
       ],
       "type": "table"
      }
     },
     "output_type": "display_data"
    }
   ],
   "source": [
    "duplicate_count_check = f\"\"\"SELECT COUNT(*) AS duplicate_count FROM ( SELECT *, ROW_NUMBER() OVER (PARTITION BY {duplicate_column} ORDER BY dw_batch_id DESC, dw_last_update_dt DESC) rnk FROM {source_schema}.{source_table} WHERE {filter_condition} )a WHERE rnk>1\"\"\"\n",
    "print(duplicate_count_check)\n",
    "display(spark.sql(duplicate_count_check))"
   ]
  },
  {
   "cell_type": "code",
   "execution_count": 0,
   "metadata": {
    "application/vnd.databricks.v1+cell": {
     "cellMetadata": {
      "byteLimit": 2048000,
      "rowLimit": 10000
     },
     "inputWidgets": {},
     "nuid": "55a12053-4f64-4fc6-85e5-4fb20d3d3025",
     "showTitle": true,
     "title": "Delete Records From Source Table"
    }
   },
   "outputs": [
    {
     "output_type": "display_data",
     "data": {
      "text/html": [
       "<style scoped>\n",
       "  .ansiout {\n",
       "    display: block;\n",
       "    unicode-bidi: embed;\n",
       "    white-space: pre-wrap;\n",
       "    word-wrap: break-word;\n",
       "    word-break: break-all;\n",
       "    font-family: \"Menlo\", \"Monaco\", \"Consolas\", \"Ubuntu Mono\", \"Source Code Pro\", monospace;\n",
       "    font-size: 13px;\n",
       "    color: #555;\n",
       "    margin-left: 4px;\n",
       "    line-height: 19px;\n",
       "  }\n",
       "</style>\n",
       "<div class=\"ansiout\">DELETE FROM dw_xle_sz_delta_fdp.t_f_xle_ceded_claim_transaction_detail_as_is WHERE src_sys_id in (15,23,26,80) and dw_row_active_ind = &#39;N&#39;\n",
       "</div>"
      ]
     },
     "metadata": {
      "application/vnd.databricks.v1+output": {
       "addedWidgets": {},
       "arguments": {},
       "data": "<div class=\"ansiout\">DELETE FROM dw_xle_sz_delta_fdp.t_f_xle_ceded_claim_transaction_detail_as_is WHERE src_sys_id in (15,23,26,80) and dw_row_active_ind = &#39;N&#39;\n</div>",
       "datasetInfos": [],
       "metadata": {},
       "removedWidgets": [],
       "type": "html"
      }
     },
     "output_type": "display_data"
    },
    {
     "output_type": "display_data",
     "data": {
      "text/html": [
       "<style scoped>\n",
       "  .table-result-container {\n",
       "    max-height: 300px;\n",
       "    overflow: auto;\n",
       "  }\n",
       "  table, th, td {\n",
       "    border: 1px solid black;\n",
       "    border-collapse: collapse;\n",
       "  }\n",
       "  th, td {\n",
       "    padding: 5px;\n",
       "  }\n",
       "  th {\n",
       "    text-align: left;\n",
       "  }\n",
       "</style><div class='table-result-container'><table class='table-result'><thead style='background-color: white'><tr><th>num_affected_rows</th></tr></thead><tbody><tr><td>8625889512</td></tr></tbody></table></div>"
      ]
     },
     "metadata": {
      "application/vnd.databricks.v1+output": {
       "addedWidgets": {},
       "aggData": [],
       "aggError": "",
       "aggOverflow": false,
       "aggSchema": [],
       "aggSeriesLimitReached": false,
       "aggType": "",
       "arguments": {},
       "columnCustomDisplayInfos": {},
       "data": [
        [
         8625889512
        ]
       ],
       "datasetInfos": [],
       "dbfsResultPath": null,
       "isJsonSchema": true,
       "metadata": {},
       "overflow": false,
       "plotOptions": {
        "customPlotOptions": {},
        "displayType": "table",
        "pivotAggregation": null,
        "pivotColumns": null,
        "xColumns": null,
        "yColumns": null
       },
       "removedWidgets": [],
       "schema": [
        {
         "metadata": "{}",
         "name": "num_affected_rows",
         "type": "\"long\""
        }
       ],
       "type": "table"
      }
     },
     "output_type": "display_data"
    }
   ],
   "source": [
    "delete_from_table = f\"\"\"DELETE FROM {source_schema}.{source_table} WHERE {filter_condition}\"\"\"\n",
    "print(delete_from_table)\n",
    "display(spark.sql(delete_from_table))"
   ]
  },
  {
   "cell_type": "code",
   "execution_count": 0,
   "metadata": {
    "application/vnd.databricks.v1+cell": {
     "cellMetadata": {
      "byteLimit": 2048000,
      "rowLimit": 10000
     },
     "inputWidgets": {},
     "nuid": "84a6693b-a534-4f5e-b19a-2922896d827f",
     "showTitle": true,
     "title": "Insert Non-Duplicate Records From Backup Table Into Source Table"
    }
   },
   "outputs": [
    {
     "output_type": "display_data",
     "data": {
      "text/html": [
       "<style scoped>\n",
       "  .ansiout {\n",
       "    display: block;\n",
       "    unicode-bidi: embed;\n",
       "    white-space: pre-wrap;\n",
       "    word-wrap: break-word;\n",
       "    word-break: break-all;\n",
       "    font-family: \"Menlo\", \"Monaco\", \"Consolas\", \"Ubuntu Mono\", \"Source Code Pro\", monospace;\n",
       "    font-size: 13px;\n",
       "    color: #555;\n",
       "    margin-left: 4px;\n",
       "    line-height: 19px;\n",
       "  }\n",
       "</style>\n",
       "<div class=\"ansiout\">INSERT INTO dw_xle_sz_delta_fdp.t_f_xle_ceded_claim_transaction_detail_as_is\n",
       "PARTITION (src_sys_id, dw_row_active_ind)\n",
       "(cctd_as_is_fact_key, cctd_as_is_fact_key_parent, cctd_fact_key, cctd_fact_key_orig, cacctd_fact_key_orig, cctd_orig_amt, cctd_funct_amt, cctd_trans_amt, acctg_dt, acctg_pd_back_dated_ind, acctg_pd_future_dated_ind, chartf_uw_year, funct_curr_conv_dt, ledger_accident_year, loss_attach_dt, open_balance_trans_ind, sign_multiplier, src_creation_time_stamp_dt, tpa_claim_ind, trans_eff_dt, trans_entr_dt, acctg_pd_key, acctg_pd_key_actuarial_adjusted, acctg_pd_key_orig, acctg_pd_key_from_source, acctg_pd_key_when_created, b_ri_cont_layer_plcy_id, b_ri_cont_layer_plcy_key, bu_chartf_affiliate_id, bu_chartf_affiliate_key, cctd_facth_key, claim_id, claim_key, claim_line_id, claim_line_key, cmpl_id, cmpl_key, curr_orig_id, curr_orig_key, curr_settlement_id, curr_settlement_key, curr_trans_id, curr_trans_key, cvrg_id, cvrg_key, insd_loc_id, insd_loc_key, l_acctg_pd, l_claim_id, l_claim_key, l_cvrg_id, l_cvrg_key, l_plcy_id, l_plcy_key, l_ri_cont_layer_id, l_ri_cont_layer_key, lloyds_clas_cd_id, lloyds_clas_cd_key, lloyds_risk_id, lloyds_risk_key, loss_loc_id, loss_loc_key, mpl_id, mpl_key, obu_id, obu_key, org_gsr_id, org_gsr_key, org_ind_id, org_ind_key, org_le_id, org_le_key, org_le_intercompany_id, org_le_intercompany_key, org_lob_id, org_lob_key, org_por_id, org_por_key, org_uw_id, org_uw_key, party_broker_id, party_broker_key, party_ceded_broker_id, party_ceded_broker_key, party_claimant_id, party_claimant_key, party_insured_id, party_insured_key, party_insurer_id, party_insurer_key, party_reinsurer_id, party_reinsurer_key, plcy_id, plcy_key, plcy_cvrg_grp_id, plcy_cvrg_grp_key, plcy_cvrg_nbr, plcy_cvrg_nbr_id, plcy_cvrg_nbr_key, plcy_ledger_ri_type_id, plcy_ledger_ri_type_key, product_id, product_key, prog_id, prog_key, ri_cont_layer_id, ri_cont_layer_key, ri_cont_cvrg_grp_id, ri_cont_cvrg_grp_key, ri_cont_cvrg_nbr_id, ri_cont_cvrg_nbr_key, risk_loc_id, risk_loc_key, rpl_id, rpl_key, s2_prod_line_id, s2_prod_line_key, src_sys_key, ssr_bus_id, ssr_bus_key, ssr_trust_fund_id, ssr_trust_fund_key, trans_bus_type_key, trans_ent_type_key, trans_fin_type_id, trans_fin_type_key, trans_jrnl_type_key, trans_origin_type_key, cctd_facth_sz_key, curr_funct_id, curr_funct_key, cctd_src_trans_id, dw_batch_id, dw_create_dt, dw_last_update_dt, dw_row_end_dt, mi_curr_conv_dt, mi_curr_conv_type_cd, cctd_mi_eur_amt, cctd_mi_usd_amt, trans_type_admin_id, trans_type_admin_key, trans_migrated_ind, cctd_act_eur_amt, cctd_act_usd_amt, cctd_fin_eur_amt, cctd_fin_usd_amt, act_curr_conv_dt, act_curr_conv_type_cd, fin_account_id, fin_account_key, trans_type_actuarial_id, trans_type_actuarial_key, cctd_as_is_fact_key_orig, dw_last_update_dt_orig, bma_id, bma_key, rclass_id, rclass_key, src_sys_id, dw_row_active_ind)\n",
       "SELECT cctd_as_is_fact_key, cctd_as_is_fact_key_parent, cctd_fact_key, cctd_fact_key_orig, cacctd_fact_key_orig, cctd_orig_amt, cctd_funct_amt, cctd_trans_amt, acctg_dt, acctg_pd_back_dated_ind, acctg_pd_future_dated_ind, chartf_uw_year, funct_curr_conv_dt, ledger_accident_year, loss_attach_dt, open_balance_trans_ind, sign_multiplier, src_creation_time_stamp_dt, tpa_claim_ind, trans_eff_dt, trans_entr_dt, acctg_pd_key, acctg_pd_key_actuarial_adjusted, acctg_pd_key_orig, acctg_pd_key_from_source, acctg_pd_key_when_created, b_ri_cont_layer_plcy_id, b_ri_cont_layer_plcy_key, bu_chartf_affiliate_id, bu_chartf_affiliate_key, cctd_facth_key, claim_id, claim_key, claim_line_id, claim_line_key, cmpl_id, cmpl_key, curr_orig_id, curr_orig_key, curr_settlement_id, curr_settlement_key, curr_trans_id, curr_trans_key, cvrg_id, cvrg_key, insd_loc_id, insd_loc_key, l_acctg_pd, l_claim_id, l_claim_key, l_cvrg_id, l_cvrg_key, l_plcy_id, l_plcy_key, l_ri_cont_layer_id, l_ri_cont_layer_key, lloyds_clas_cd_id, lloyds_clas_cd_key, lloyds_risk_id, lloyds_risk_key, loss_loc_id, loss_loc_key, mpl_id, mpl_key, obu_id, obu_key, org_gsr_id, org_gsr_key, org_ind_id, org_ind_key, org_le_id, org_le_key, org_le_intercompany_id, org_le_intercompany_key, org_lob_id, org_lob_key, org_por_id, org_por_key, org_uw_id, org_uw_key, party_broker_id, party_broker_key, party_ceded_broker_id, party_ceded_broker_key, party_claimant_id, party_claimant_key, party_insured_id, party_insured_key, party_insurer_id, party_insurer_key, party_reinsurer_id, party_reinsurer_key, plcy_id, plcy_key, plcy_cvrg_grp_id, plcy_cvrg_grp_key, plcy_cvrg_nbr, plcy_cvrg_nbr_id, plcy_cvrg_nbr_key, plcy_ledger_ri_type_id, plcy_ledger_ri_type_key, product_id, product_key, prog_id, prog_key, ri_cont_layer_id, ri_cont_layer_key, ri_cont_cvrg_grp_id, ri_cont_cvrg_grp_key, ri_cont_cvrg_nbr_id, ri_cont_cvrg_nbr_key, risk_loc_id, risk_loc_key, rpl_id, rpl_key, s2_prod_line_id, s2_prod_line_key, src_sys_key, ssr_bus_id, ssr_bus_key, ssr_trust_fund_id, ssr_trust_fund_key, trans_bus_type_key, trans_ent_type_key, trans_fin_type_id, trans_fin_type_key, trans_jrnl_type_key, trans_origin_type_key, cctd_facth_sz_key, curr_funct_id, curr_funct_key, cctd_src_trans_id, dw_batch_id, dw_create_dt, dw_last_update_dt, dw_row_end_dt, mi_curr_conv_dt, mi_curr_conv_type_cd, cctd_mi_eur_amt, cctd_mi_usd_amt, trans_type_admin_id, trans_type_admin_key, trans_migrated_ind, cctd_act_eur_amt, cctd_act_usd_amt, cctd_fin_eur_amt, cctd_fin_usd_amt, act_curr_conv_dt, act_curr_conv_type_cd, fin_account_id, fin_account_key, trans_type_actuarial_id, trans_type_actuarial_key, cctd_as_is_fact_key_orig, dw_last_update_dt_orig, bma_id, bma_key, rclass_id, rclass_key, src_sys_id, dw_row_active_ind FROM (\n",
       "SELECT *, ROW_NUMBER() OVER (PARTITION BY cctd_as_is_fact_key ORDER BY dw_batch_id DESC, dw_last_update_dt DESC) rnk FROM dw_xle_sz_archive.t_f_xle_ceded_claim_transaction_detail_as_is_20231031 WHERE src_sys_id in (15,23,26,80) and dw_row_active_ind = &#39;N&#39; )a WHERE rnk=1\n",
       "</div>"
      ]
     },
     "metadata": {
      "application/vnd.databricks.v1+output": {
       "addedWidgets": {},
       "arguments": {},
       "data": "<div class=\"ansiout\">INSERT INTO dw_xle_sz_delta_fdp.t_f_xle_ceded_claim_transaction_detail_as_is\nPARTITION (src_sys_id, dw_row_active_ind)\n(cctd_as_is_fact_key, cctd_as_is_fact_key_parent, cctd_fact_key, cctd_fact_key_orig, cacctd_fact_key_orig, cctd_orig_amt, cctd_funct_amt, cctd_trans_amt, acctg_dt, acctg_pd_back_dated_ind, acctg_pd_future_dated_ind, chartf_uw_year, funct_curr_conv_dt, ledger_accident_year, loss_attach_dt, open_balance_trans_ind, sign_multiplier, src_creation_time_stamp_dt, tpa_claim_ind, trans_eff_dt, trans_entr_dt, acctg_pd_key, acctg_pd_key_actuarial_adjusted, acctg_pd_key_orig, acctg_pd_key_from_source, acctg_pd_key_when_created, b_ri_cont_layer_plcy_id, b_ri_cont_layer_plcy_key, bu_chartf_affiliate_id, bu_chartf_affiliate_key, cctd_facth_key, claim_id, claim_key, claim_line_id, claim_line_key, cmpl_id, cmpl_key, curr_orig_id, curr_orig_key, curr_settlement_id, curr_settlement_key, curr_trans_id, curr_trans_key, cvrg_id, cvrg_key, insd_loc_id, insd_loc_key, l_acctg_pd, l_claim_id, l_claim_key, l_cvrg_id, l_cvrg_key, l_plcy_id, l_plcy_key, l_ri_cont_layer_id, l_ri_cont_layer_key, lloyds_clas_cd_id, lloyds_clas_cd_key, lloyds_risk_id, lloyds_risk_key, loss_loc_id, loss_loc_key, mpl_id, mpl_key, obu_id, obu_key, org_gsr_id, org_gsr_key, org_ind_id, org_ind_key, org_le_id, org_le_key, org_le_intercompany_id, org_le_intercompany_key, org_lob_id, org_lob_key, org_por_id, org_por_key, org_uw_id, org_uw_key, party_broker_id, party_broker_key, party_ceded_broker_id, party_ceded_broker_key, party_claimant_id, party_claimant_key, party_insured_id, party_insured_key, party_insurer_id, party_insurer_key, party_reinsurer_id, party_reinsurer_key, plcy_id, plcy_key, plcy_cvrg_grp_id, plcy_cvrg_grp_key, plcy_cvrg_nbr, plcy_cvrg_nbr_id, plcy_cvrg_nbr_key, plcy_ledger_ri_type_id, plcy_ledger_ri_type_key, product_id, product_key, prog_id, prog_key, ri_cont_layer_id, ri_cont_layer_key, ri_cont_cvrg_grp_id, ri_cont_cvrg_grp_key, ri_cont_cvrg_nbr_id, ri_cont_cvrg_nbr_key, risk_loc_id, risk_loc_key, rpl_id, rpl_key, s2_prod_line_id, s2_prod_line_key, src_sys_key, ssr_bus_id, ssr_bus_key, ssr_trust_fund_id, ssr_trust_fund_key, trans_bus_type_key, trans_ent_type_key, trans_fin_type_id, trans_fin_type_key, trans_jrnl_type_key, trans_origin_type_key, cctd_facth_sz_key, curr_funct_id, curr_funct_key, cctd_src_trans_id, dw_batch_id, dw_create_dt, dw_last_update_dt, dw_row_end_dt, mi_curr_conv_dt, mi_curr_conv_type_cd, cctd_mi_eur_amt, cctd_mi_usd_amt, trans_type_admin_id, trans_type_admin_key, trans_migrated_ind, cctd_act_eur_amt, cctd_act_usd_amt, cctd_fin_eur_amt, cctd_fin_usd_amt, act_curr_conv_dt, act_curr_conv_type_cd, fin_account_id, fin_account_key, trans_type_actuarial_id, trans_type_actuarial_key, cctd_as_is_fact_key_orig, dw_last_update_dt_orig, bma_id, bma_key, rclass_id, rclass_key, src_sys_id, dw_row_active_ind)\nSELECT cctd_as_is_fact_key, cctd_as_is_fact_key_parent, cctd_fact_key, cctd_fact_key_orig, cacctd_fact_key_orig, cctd_orig_amt, cctd_funct_amt, cctd_trans_amt, acctg_dt, acctg_pd_back_dated_ind, acctg_pd_future_dated_ind, chartf_uw_year, funct_curr_conv_dt, ledger_accident_year, loss_attach_dt, open_balance_trans_ind, sign_multiplier, src_creation_time_stamp_dt, tpa_claim_ind, trans_eff_dt, trans_entr_dt, acctg_pd_key, acctg_pd_key_actuarial_adjusted, acctg_pd_key_orig, acctg_pd_key_from_source, acctg_pd_key_when_created, b_ri_cont_layer_plcy_id, b_ri_cont_layer_plcy_key, bu_chartf_affiliate_id, bu_chartf_affiliate_key, cctd_facth_key, claim_id, claim_key, claim_line_id, claim_line_key, cmpl_id, cmpl_key, curr_orig_id, curr_orig_key, curr_settlement_id, curr_settlement_key, curr_trans_id, curr_trans_key, cvrg_id, cvrg_key, insd_loc_id, insd_loc_key, l_acctg_pd, l_claim_id, l_claim_key, l_cvrg_id, l_cvrg_key, l_plcy_id, l_plcy_key, l_ri_cont_layer_id, l_ri_cont_layer_key, lloyds_clas_cd_id, lloyds_clas_cd_key, lloyds_risk_id, lloyds_risk_key, loss_loc_id, loss_loc_key, mpl_id, mpl_key, obu_id, obu_key, org_gsr_id, org_gsr_key, org_ind_id, org_ind_key, org_le_id, org_le_key, org_le_intercompany_id, org_le_intercompany_key, org_lob_id, org_lob_key, org_por_id, org_por_key, org_uw_id, org_uw_key, party_broker_id, party_broker_key, party_ceded_broker_id, party_ceded_broker_key, party_claimant_id, party_claimant_key, party_insured_id, party_insured_key, party_insurer_id, party_insurer_key, party_reinsurer_id, party_reinsurer_key, plcy_id, plcy_key, plcy_cvrg_grp_id, plcy_cvrg_grp_key, plcy_cvrg_nbr, plcy_cvrg_nbr_id, plcy_cvrg_nbr_key, plcy_ledger_ri_type_id, plcy_ledger_ri_type_key, product_id, product_key, prog_id, prog_key, ri_cont_layer_id, ri_cont_layer_key, ri_cont_cvrg_grp_id, ri_cont_cvrg_grp_key, ri_cont_cvrg_nbr_id, ri_cont_cvrg_nbr_key, risk_loc_id, risk_loc_key, rpl_id, rpl_key, s2_prod_line_id, s2_prod_line_key, src_sys_key, ssr_bus_id, ssr_bus_key, ssr_trust_fund_id, ssr_trust_fund_key, trans_bus_type_key, trans_ent_type_key, trans_fin_type_id, trans_fin_type_key, trans_jrnl_type_key, trans_origin_type_key, cctd_facth_sz_key, curr_funct_id, curr_funct_key, cctd_src_trans_id, dw_batch_id, dw_create_dt, dw_last_update_dt, dw_row_end_dt, mi_curr_conv_dt, mi_curr_conv_type_cd, cctd_mi_eur_amt, cctd_mi_usd_amt, trans_type_admin_id, trans_type_admin_key, trans_migrated_ind, cctd_act_eur_amt, cctd_act_usd_amt, cctd_fin_eur_amt, cctd_fin_usd_amt, act_curr_conv_dt, act_curr_conv_type_cd, fin_account_id, fin_account_key, trans_type_actuarial_id, trans_type_actuarial_key, cctd_as_is_fact_key_orig, dw_last_update_dt_orig, bma_id, bma_key, rclass_id, rclass_key, src_sys_id, dw_row_active_ind FROM (\nSELECT *, ROW_NUMBER() OVER (PARTITION BY cctd_as_is_fact_key ORDER BY dw_batch_id DESC, dw_last_update_dt DESC) rnk FROM dw_xle_sz_archive.t_f_xle_ceded_claim_transaction_detail_as_is_20231031 WHERE src_sys_id in (15,23,26,80) and dw_row_active_ind = &#39;N&#39; )a WHERE rnk=1\n</div>",
       "datasetInfos": [],
       "metadata": {},
       "removedWidgets": [],
       "type": "html"
      }
     },
     "output_type": "display_data"
    },
    {
     "output_type": "display_data",
     "data": {
      "text/html": [
       "<style scoped>\n",
       "  .table-result-container {\n",
       "    max-height: 300px;\n",
       "    overflow: auto;\n",
       "  }\n",
       "  table, th, td {\n",
       "    border: 1px solid black;\n",
       "    border-collapse: collapse;\n",
       "  }\n",
       "  th, td {\n",
       "    padding: 5px;\n",
       "  }\n",
       "  th {\n",
       "    text-align: left;\n",
       "  }\n",
       "</style><div class='table-result-container'><table class='table-result'><thead style='background-color: white'><tr><th>num_affected_rows</th><th>num_inserted_rows</th></tr></thead><tbody><tr><td>5709174270</td><td>5709174270</td></tr></tbody></table></div>"
      ]
     },
     "metadata": {
      "application/vnd.databricks.v1+output": {
       "addedWidgets": {},
       "aggData": [],
       "aggError": "",
       "aggOverflow": false,
       "aggSchema": [],
       "aggSeriesLimitReached": false,
       "aggType": "",
       "arguments": {},
       "columnCustomDisplayInfos": {},
       "data": [
        [
         5709174270,
         5709174270
        ]
       ],
       "datasetInfos": [],
       "dbfsResultPath": null,
       "isJsonSchema": true,
       "metadata": {},
       "overflow": false,
       "plotOptions": {
        "customPlotOptions": {},
        "displayType": "table",
        "pivotAggregation": null,
        "pivotColumns": null,
        "xColumns": null,
        "yColumns": null
       },
       "removedWidgets": [],
       "schema": [
        {
         "metadata": "{}",
         "name": "num_affected_rows",
         "type": "\"long\""
        },
        {
         "metadata": "{}",
         "name": "num_inserted_rows",
         "type": "\"long\""
        }
       ],
       "type": "table"
      }
     },
     "output_type": "display_data"
    }
   ],
   "source": [
    "columns = spark.sql(f\"SELECT * FROM {source_schema}.{source_table}\").columns\n",
    "insert_into_table = f\"\"\"INSERT INTO {source_schema}.{source_table}\n",
    "PARTITION ({', '.join(partition_cols)})\n",
    "({', '.join(columns)})\n",
    "SELECT {', '.join(columns)} FROM (\n",
    "SELECT *, ROW_NUMBER() OVER (PARTITION BY {duplicate_column} ORDER BY dw_batch_id DESC, dw_last_update_dt DESC) rnk FROM {backup_schema}.{backup_table} WHERE {filter_condition} )a WHERE rnk=1\"\"\"\n",
    "print(insert_into_table)\n",
    "display(spark.sql(insert_into_table))"
   ]
  },
  {
   "cell_type": "code",
   "execution_count": 0,
   "metadata": {
    "application/vnd.databricks.v1+cell": {
     "cellMetadata": {
      "byteLimit": 2048000,
      "rowLimit": 10000
     },
     "inputWidgets": {},
     "nuid": "2a822460-f40c-4702-bd04-3b1dc62e0edb",
     "showTitle": true,
     "title": "Duplicate Count Check in Source Table After Insert"
    }
   },
   "outputs": [
    {
     "output_type": "display_data",
     "data": {
      "text/html": [
       "<style scoped>\n",
       "  .ansiout {\n",
       "    display: block;\n",
       "    unicode-bidi: embed;\n",
       "    white-space: pre-wrap;\n",
       "    word-wrap: break-word;\n",
       "    word-break: break-all;\n",
       "    font-family: \"Menlo\", \"Monaco\", \"Consolas\", \"Ubuntu Mono\", \"Source Code Pro\", monospace;\n",
       "    font-size: 13px;\n",
       "    color: #555;\n",
       "    margin-left: 4px;\n",
       "    line-height: 19px;\n",
       "  }\n",
       "</style>\n",
       "<div class=\"ansiout\"></div>"
      ]
     },
     "metadata": {
      "application/vnd.databricks.v1+output": {
       "addedWidgets": {},
       "arguments": {},
       "data": "<div class=\"ansiout\"></div>",
       "datasetInfos": [],
       "metadata": {},
       "removedWidgets": [],
       "type": "html"
      }
     },
     "output_type": "display_data"
    },
    {
     "output_type": "display_data",
     "data": {
      "text/html": [
       "<style scoped>\n",
       "  .ansiout {\n",
       "    display: block;\n",
       "    unicode-bidi: embed;\n",
       "    white-space: pre-wrap;\n",
       "    word-wrap: break-word;\n",
       "    word-break: break-all;\n",
       "    font-family: \"Menlo\", \"Monaco\", \"Consolas\", \"Ubuntu Mono\", \"Source Code Pro\", monospace;\n",
       "    font-size: 13px;\n",
       "    color: #555;\n",
       "    margin-left: 4px;\n",
       "    line-height: 19px;\n",
       "  }\n",
       "</style>\n",
       "<div class=\"ansiout\"><span class=\"ansi-red-fg\">---------------------------------------------------------------------------</span>\n",
       "<span class=\"ansi-red-fg\">NameError</span>                                 Traceback (most recent call last)\n",
       "<span class=\"ansi-green-fg\">&lt;command-1395565820793915&gt;</span> in <span class=\"ansi-cyan-fg\">&lt;module&gt;</span>\n",
       "<span class=\"ansi-green-fg\">----&gt; 1</span><span class=\"ansi-red-fg\"> </span>print<span class=\"ansi-blue-fg\">(</span>duplicate_count_check<span class=\"ansi-blue-fg\">)</span>\n",
       "<span class=\"ansi-green-intense-fg ansi-bold\">      2</span> display<span class=\"ansi-blue-fg\">(</span>spark<span class=\"ansi-blue-fg\">.</span>sql<span class=\"ansi-blue-fg\">(</span>duplicate_count_check<span class=\"ansi-blue-fg\">)</span><span class=\"ansi-blue-fg\">)</span>\n",
       "\n",
       "<span class=\"ansi-red-fg\">NameError</span>: name &#39;duplicate_count_check&#39; is not defined</div>"
      ]
     },
     "metadata": {
      "application/vnd.databricks.v1+output": {
       "arguments": {},
       "data": "<div class=\"ansiout\"><span class=\"ansi-red-fg\">---------------------------------------------------------------------------</span>\n<span class=\"ansi-red-fg\">NameError</span>                                 Traceback (most recent call last)\n<span class=\"ansi-green-fg\">&lt;command-1395565820793915&gt;</span> in <span class=\"ansi-cyan-fg\">&lt;module&gt;</span>\n<span class=\"ansi-green-fg\">----&gt; 1</span><span class=\"ansi-red-fg\"> </span>print<span class=\"ansi-blue-fg\">(</span>duplicate_count_check<span class=\"ansi-blue-fg\">)</span>\n<span class=\"ansi-green-intense-fg ansi-bold\">      2</span> display<span class=\"ansi-blue-fg\">(</span>spark<span class=\"ansi-blue-fg\">.</span>sql<span class=\"ansi-blue-fg\">(</span>duplicate_count_check<span class=\"ansi-blue-fg\">)</span><span class=\"ansi-blue-fg\">)</span>\n\n<span class=\"ansi-red-fg\">NameError</span>: name &#39;duplicate_count_check&#39; is not defined</div>",
       "errorSummary": "<span class=\"ansi-red-fg\">NameError</span>: name &#39;duplicate_count_check&#39; is not defined",
       "errorTraceType": "html",
       "metadata": {},
       "type": "ipynbError"
      }
     },
     "output_type": "display_data"
    }
   ],
   "source": [
    "print(duplicate_count_check)\n",
    "display(spark.sql(duplicate_count_check))"
   ]
  }
 ],
 "metadata": {
  "application/vnd.databricks.v1+notebook": {
   "dashboards": [],
   "language": "python",
   "notebookMetadata": {
    "pythonIndentUnit": 2
   },
   "notebookName": "duplicate_removal_script",
   "widgets": {
    "backup_schema": {
     "currentValue": "dw_xle_sz_archive",
     "nuid": "a9349bf3-7619-4eb4-b9a2-d221a25d33d5",
     "widgetInfo": {
      "widgetType": "text",
      "defaultValue": "",
      "label": "backup_schema",
      "name": "backup_schema",
      "options": {
       "widgetType": "text",
       "autoCreated": null,
       "validationRegex": null
      }
     }
    },
    "duplicate_column": {
     "currentValue": "cctd_as_is_fact_key",
     "nuid": "15c8ed03-a317-4533-a5a2-cdf92f9d2d66",
     "widgetInfo": {
      "widgetType": "text",
      "defaultValue": "",
      "label": "duplicate_column",
      "name": "duplicate_column",
      "options": {
       "widgetType": "text",
       "autoCreated": null,
       "validationRegex": null
      }
     }
    },
    "filter_condition": {
     "currentValue": "src_sys_id in (15,23,26,80) and dw_row_active_ind = 'N'",
     "nuid": "46931404-d364-4fe2-8399-494af40ca0e2",
     "widgetInfo": {
      "widgetType": "text",
      "defaultValue": "",
      "label": "filter_condition",
      "name": "filter_condition",
      "options": {
       "widgetType": "text",
       "autoCreated": null,
       "validationRegex": null
      }
     }
    },
    "source_schema": {
     "currentValue": "dw_xle_sz_delta_fdp",
     "nuid": "341cb886-4a26-48b2-94fa-82ea8d4beae7",
     "widgetInfo": {
      "widgetType": "text",
      "defaultValue": "",
      "label": "source_schema",
      "name": "source_schema",
      "options": {
       "widgetType": "text",
       "autoCreated": null,
       "validationRegex": null
      }
     }
    },
    "source_table": {
     "currentValue": "t_f_xle_ceded_claim_transaction_detail_as_is",
     "nuid": "020a1ec6-08f9-4323-8b72-e89a59e67f5b",
     "widgetInfo": {
      "widgetType": "text",
      "defaultValue": "",
      "label": "source_table",
      "name": "source_table",
      "options": {
       "widgetType": "text",
       "autoCreated": null,
       "validationRegex": null
      }
     }
    }
   }
  }
 },
 "nbformat": 4,
 "nbformat_minor": 0
}
